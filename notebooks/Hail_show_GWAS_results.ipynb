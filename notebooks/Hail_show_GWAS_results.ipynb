{
 "cells": [
  {
   "cell_type": "code",
   "execution_count": null,
   "id": "7a2d7ba4-365d-41a2-8f07-b844d4668eeb",
   "metadata": {},
   "outputs": [],
   "source": [
    "import datetime\n",
    "import hail as hl\n",
    "\n",
    "from pyspark.conf import SparkConf\n",
    "from pyspark.context import SparkContext\n",
    "from pyspark.sql.session import SparkSession\n",
    "\n",
    "log_file_name = f\"logs/hail-{datetime.datetime.now():%Y-%m-%d-%H-%M-%S}.log\"\n",
    "# run spark\n",
    "spark_conf = SparkConf().setAppName(\"hail-test\")\n",
    "sc = SparkContext(conf=spark_conf)\n",
    "hl.init(sc=sc, log=log_file_name)\n",
    "\n",
    "## Read a vcf file, convert and write it as matrix table\n",
    "mt = hl.read_matrix_table(\"mt_filtered_PCA.mt\")\n",
    "gwas = hl.read_table(\"gwas_result_table.ht\") \n",
    "\n",
    "gwas.show()\n",
    "\n",
    "p = hl.plot.qq(gwas.p_value)\n",
    "hl.plot.show(p)\n",
    "\n",
    "p = hl.plot.manhattan(gwas.p_value)\n",
    "hl.plot.show(p)"
   ]
  }
 ],
 "metadata": {
  "kernelspec": {
   "display_name": "Python 3 (ipykernel)",
   "language": "python",
   "name": "python3"
  },
  "language_info": {
   "codemirror_mode": {
    "name": "ipython",
    "version": 3
   },
   "file_extension": ".py",
   "mimetype": "text/x-python",
   "name": "python",
   "nbconvert_exporter": "python",
   "pygments_lexer": "ipython3",
   "version": "3.10.12"
  }
 },
 "nbformat": 4,
 "nbformat_minor": 5
}
