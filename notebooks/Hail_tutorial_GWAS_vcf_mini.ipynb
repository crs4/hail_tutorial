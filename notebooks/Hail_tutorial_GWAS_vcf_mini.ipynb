{
 "cells": [
  {
   "cell_type": "code",
   "execution_count": null,
   "id": "bf2943f2-2f3b-4de2-b412-6b584d3edc3e",
   "metadata": {},
   "outputs": [],
   "source": [
    "import os\n",
    "from glob import glob\n",
    "from tqdm import tqdm\n",
    "import datetime\n",
    "import hail as hl\n",
    "\n",
    "from hail.plot import show\n",
    "import pandas as pd\n",
    "from pprint import pprint\n",
    "hl.plot.output_notebook()\n",
    "\n",
    "from pyspark.conf import SparkConf\n",
    "from pyspark.context import SparkContext\n",
    "from pyspark.sql.session import SparkSession\n",
    "\n",
    "import boto3\n",
    "from botocore.exceptions import NoCredentialsError\n",
    "\n",
    "import warnings\n",
    "warnings.filterwarnings('ignore')"
   ]
  },
  {
   "cell_type": "code",
   "execution_count": null,
   "id": "61f1a42a-423f-40ea-a785-960d4a2f45d7",
   "metadata": {},
   "outputs": [],
   "source": [
    "log_file_name = f\"logs/hail-{datetime.datetime.now():%Y-%m-%d-%H-%M-%S}.log\"\n",
    "# run spark\n",
    "spark_conf = SparkConf().setAppName(\"hail-test\")\n",
    "# .setMaster(\"spark://spark-master:7077\")\n",
    "spark_conf.set(\"spark.hadoop.fs.s3a.endpoint\", \"http://lifemap-minio:9000/\")\n",
    "spark_conf.set(\"spark.hadoop.fs.s3a.access.key\", \"root\")\n",
    "spark_conf.set(\"spark.hadoop.fs.s3a.secret.key\", \"passpass\" )\n",
    "spark_conf.set(\"spark.hadoop.fs.s3a.connection.ssl.enabled\", \"false\")\n",
    "spark_conf.set(\"spark.hadoop.fs.s3a.path.style.access\", \"true\")\n",
    "spark_conf.set(\"spark.hadoop.fs.s3a.impl\", \"org.apache.hadoop.fs.s3a.S3AFileSystem\")\n",
    "spark_conf.set(\"spark.hadoop.fs.s3a.connection.maximum\", 1024);\n",
    "spark_conf.set(\"spark.hadoop.fs.s3a.threads.max\", 1024);\n",
    "spark_conf.set(\"spark.hadoop.fs.s3.impl\", \"org.apache.hadoop.fs.s3a.S3AFileSystem\")\n",
    "sc = SparkContext(conf=spark_conf)"
   ]
  },
  {
   "cell_type": "code",
   "execution_count": null,
   "id": "5749b131-4159-4ea8-a03e-72d510416834",
   "metadata": {},
   "outputs": [],
   "source": [
    "# S3 configuration\n",
    "s3 = boto3.client(\n",
    "    's3',\n",
    "    endpoint_url=\"http://lifemap-minio:9000\",\n",
    "    aws_access_key_id=\"root\",\n",
    "    aws_secret_access_key=\"passpass\",\n",
    ")\n",
    "\n",
    "bucket_name = \"data-hail\"\n",
    "\n",
    "# Check if the bucket exists, if not, create it\n",
    "try:\n",
    "    s3.head_bucket(Bucket=bucket_name)\n",
    "    print(f\"Bucket '{bucket_name}' exists.\")\n",
    "except Exception:\n",
    "    # If the bucket does not exist, create it\n",
    "    s3.create_bucket(Bucket=bucket_name)\n",
    "    print(f\"Bucket '{bucket_name}' created.\")\n"
   ]
  },
  {
   "cell_type": "code",
   "execution_count": null,
   "id": "cb4138c7-70d0-4e8b-bfd0-30ecb877edbd",
   "metadata": {},
   "outputs": [],
   "source": [
    "hl.init(sc=sc, log=log_file_name)"
   ]
  },
  {
   "cell_type": "code",
   "execution_count": null,
   "id": "eb912cfa-ef80-4320-aa49-a42768e6a45b",
   "metadata": {},
   "outputs": [],
   "source": [
    "vcf_fn = 'data/1kg.vcf'\n",
    "annotations_fn = 'data/1kg_annotations.txt'\n",
    "mt_fn = 's3://data-hail/1kg.mt'"
   ]
  },
  {
   "cell_type": "code",
   "execution_count": null,
   "id": "bc0f431c-065e-4504-9a74-82aa8c688aa7",
   "metadata": {},
   "outputs": [],
   "source": [
    "_ = hl.import_vcf(vcf_fn).write(mt_fn, overwrite=True) # Read a vcf file and write it as matrix table (assign this to a dummy variable to avoid errors in notebook)\n",
    "mt = hl.read_matrix_table(mt_fn) # Read matrix table\n",
    "annotation_table = hl.import_table(annotations_fn, impute=True).key_by('Sample') # Read annotation table\n",
    "\n",
    "mt = mt.annotate_cols(pheno = annotation_table[mt.s])\n",
    "mt = hl.sample_qc(mt)\n",
    "mt = mt.filter_cols((mt.sample_qc.dp_stats.mean >= 4) & (mt.sample_qc.call_rate >= 0.97))\n",
    "ab = mt.AD[1] / hl.sum(mt.AD)\n",
    "filter_condition_ab = ((mt.GT.is_hom_ref() & (ab <= 0.1)) |\n",
    "                        (mt.GT.is_het() & (ab >= 0.25) & (ab <= 0.75)) |\n",
    "                        (mt.GT.is_hom_var() & (ab >= 0.9)))\n",
    "mt = mt.filter_entries(filter_condition_ab)\n",
    "mt = hl.variant_qc(mt)\n",
    "mt = mt.filter_rows(mt.variant_qc.AF[1] > 0.01)\n",
    "\n",
    "eigenvalues, pcs, _ = hl.hwe_normalized_pca(mt.GT)\n",
    "\n",
    "mt = mt.annotate_cols(scores = pcs[mt.s].scores)\n",
    "gwas = hl.linear_regression_rows(\n",
    "    y=mt.pheno.CaffeineConsumption,\n",
    "    x=mt.GT.n_alt_alleles(),\n",
    "    covariates=[1.0, mt.pheno.isFemale, mt.scores[0], mt.scores[1], mt.scores[2]])"
   ]
  },
  {
   "cell_type": "code",
   "execution_count": null,
   "id": "f3725f82-b2f9-4dde-88a9-f50cf4e6dfed",
   "metadata": {},
   "outputs": [],
   "source": [
    "gwas.show()"
   ]
  },
  {
   "cell_type": "code",
   "execution_count": null,
   "id": "76d4c46b-15a6-48a1-80a0-97f9835e6c9b",
   "metadata": {},
   "outputs": [],
   "source": [
    "p = hl.plot.qq(gwas.p_value)\n",
    "show(p)"
   ]
  },
  {
   "cell_type": "code",
   "execution_count": null,
   "id": "cc2e6aa7-ed82-47f5-93e7-b76d2554357a",
   "metadata": {},
   "outputs": [],
   "source": [
    "p = hl.plot.manhattan(gwas.p_value)\n",
    "show(p)"
   ]
  }
 ],
 "metadata": {
  "kernelspec": {
   "display_name": "Python 3 (ipykernel)",
   "language": "python",
   "name": "python3"
  },
  "language_info": {
   "codemirror_mode": {
    "name": "ipython",
    "version": 3
   },
   "file_extension": ".py",
   "mimetype": "text/x-python",
   "name": "python",
   "nbconvert_exporter": "python",
   "pygments_lexer": "ipython3",
   "version": "3.10.12"
  }
 },
 "nbformat": 4,
 "nbformat_minor": 5
}
